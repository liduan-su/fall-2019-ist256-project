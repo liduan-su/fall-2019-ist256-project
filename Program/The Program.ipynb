{
 "cells": [
  {
   "cell_type": "markdown",
   "metadata": {},
   "source": [
    "# An Twitter Analysis Program\n",
    "\n",
    "Input: \n",
    "- The trend news they want to see\n",
    "\n",
    "Outputs: \n",
    "- The relevant trend within a certain timeline and put them in order\n",
    "\n",
    "High-Level Algorithm (step by step, plain English no Python!)\n",
    "```\n",
    "Import module we will use for the program\n",
    "Define the function by using the trend function from tweepy and get the trend news\n",
    "Define the geographical position of trends and get the location\n",
    "By using the panda function to put the trend in a data frame and get a chart\n",
    "User need to enter the index number from the chart that we previously show and pick the one they like\n",
    "Extract the key information from that trend and put it in the timeline function\n",
    "We can get topics that is relevant with the trend\n",
    "By comparing the comment and like number under each topic, we will filter the hottest top 20 topics\n",
    "Put these hottest tweets to the panda and form another chart\n",
    "User can pick the tweet they like and view more detail information.\n",
    "By using the folium function, putting tweets from different locations into the map\n",
    "Use the choropleth function, add data and color to tell which state is happening big things\n",
    "```\n"
   ]
  },
  {
   "cell_type": "markdown",
   "metadata": {},
   "source": [
    "# Part 1"
   ]
  },
  {
   "cell_type": "code",
   "execution_count": null,
   "metadata": {},
   "outputs": [],
   "source": [
    "import import_ipynb\n",
    "import SupportFunction as sf\n",
    "import Twitter\n",
    "from IPython.display import display\n",
    "import sys \n",
    "import ipywidgets as widgets\n",
    "\n",
    "trend = Twitter.trend()\n",
    "\n",
    "pos = 0\n",
    "neg = 0\n",
    "neutral = 0\n",
    "usrPlace = input(f\"Enter a place to see twitter trend --> \")    \n",
    "trendid = sf.find_availiable_trend(usrPlace)\n",
    "try:\n",
    "    trend_df = sf.get_trendlist(trendid)\n",
    "    print(f'here is the top 10 trending on twitter in {usrPlace}, sorted by tweet_volume')\n",
    "    display(trend_df)\n",
    "except:\n",
    "    print(trendid)\n",
    "    sys.exit()\n",
    "\n",
    "display('Choose a trend topic you would like to dig in: ')\n",
    "topic_dropdown = widgets.Dropdown(\n",
    "    options = trend_df['name'],\n",
    "    description = 'Topic:',\n",
    "    disabled = False,\n",
    ")\n",
    "confirm_buttion = widgets.Button(\n",
    "    value=False,\n",
    "    description='Confirm',\n",
    "    disabled=False,\n",
    "    tooltip='CLick to Confirm',\n",
    "    icon='check'\n",
    ")\n",
    "chooseTrend = widgets.VBox(children=[topic_dropdown, confirm_buttion])\n",
    "display(chooseTrend)"
   ]
  },
  {
   "cell_type": "code",
   "execution_count": null,
   "metadata": {},
   "outputs": [],
   "source": [
    "%blockrun confirm_buttion"
   ]
  },
  {
   "cell_type": "markdown",
   "metadata": {},
   "source": [
    "# Part 2\n",
    "what we doing here"
   ]
  },
  {
   "cell_type": "code",
   "execution_count": null,
   "metadata": {
    "scrolled": false
   },
   "outputs": [],
   "source": [
    "result = Twitter.search(topic_dropdown.value)\n",
    "result_df = sf.tweet2df(result)\n",
    "\n",
    "print('Getting the sentiment analysis...')\n",
    "\n",
    "for tweet in result_df:\n",
    "    SentimentResult = sf.GetSentiment(result_df['tweet'])\n",
    "    if SentimentResult['label']=='pos':\n",
    "        result_df\n",
    "        pos+=1\n",
    "    elif SentimentResult['label']=='neg':\n",
    "        neg+=1\n",
    "    else:\n",
    "        neutral+=1\n",
    "        \n",
    "print(f\"the top 100 highest retweet tweet of {topic_dropdown.value}\")        \n",
    "display(result_df)\n",
    "\n",
    "print('Generating the sentiment analysis chart...')\n",
    "sentiment=[pos,neg,neutral]\n",
    "\n",
    "display(sf.viewOnTwitter(result_df))\n",
    "\n",
    "display(sf.pie_graph(sentiment))\n",
    "\n",
    "print('end of the program')"
   ]
  },
  {
   "cell_type": "code",
   "execution_count": null,
   "metadata": {},
   "outputs": [],
   "source": []
  }
 ],
 "metadata": {
  "kernelspec": {
   "display_name": "Python 3",
   "language": "python",
   "name": "python3"
  },
  "language_info": {
   "codemirror_mode": {
    "name": "ipython",
    "version": 3
   },
   "file_extension": ".py",
   "mimetype": "text/x-python",
   "name": "python",
   "nbconvert_exporter": "python",
   "pygments_lexer": "ipython3",
   "version": "3.7.3"
  }
 },
 "nbformat": 4,
 "nbformat_minor": 2
}
