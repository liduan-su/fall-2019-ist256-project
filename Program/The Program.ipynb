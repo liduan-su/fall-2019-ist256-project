{
 "cells": [
  {
   "cell_type": "markdown",
   "metadata": {},
   "source": [
    "# An Social Media Analysis Program\n",
    "\n",
    "Input: \n",
    "- The trend news they want to see\n",
    "\n",
    "Outputs: \n",
    "- The relevant trend within a certain timeline and put them in order\n",
    "\n",
    "High-Level Algorithm (step by step, plain English no Python!)\n",
    "```\n",
    "Import module we will use for the program\n",
    "Define the function by using the trend function from tweepy and get the trend news\n",
    "Define the geographical position of trends and get the location\n",
    "By using the panda function to put the trend in a data frame and get a chart\n",
    "User need to enter the index number from the chart that we previously show and pick the one they like\n",
    "Extract the key information from that trend and put it in the timeline function\n",
    "We can get topics that is relevant with the trend\n",
    "By comparing the comment and like number under each topic, we will filter the hottest top 20 topics\n",
    "Put these hottest tweets to the panda and form another chart\n",
    "User can pick the tweet they like and view more detail information.\n",
    "By using the folium function, putting tweets from different locations into the map\n",
    "Use the choropleth function, add data and color to tell which state is happening big things\n",
    "```\n"
   ]
  },
  {
   "cell_type": "code",
   "execution_count": null,
   "metadata": {},
   "outputs": [],
   "source": []
  }
 ],
 "metadata": {
  "kernelspec": {
   "display_name": "Python 3",
   "language": "python",
   "name": "python3"
  },
  "language_info": {
   "codemirror_mode": {
    "name": "ipython",
    "version": 3
   },
   "file_extension": ".py",
   "mimetype": "text/x-python",
   "name": "python",
   "nbconvert_exporter": "python",
   "pygments_lexer": "ipython3",
   "version": "3.7.3"
  }
 },
 "nbformat": 4,
 "nbformat_minor": 2
}
