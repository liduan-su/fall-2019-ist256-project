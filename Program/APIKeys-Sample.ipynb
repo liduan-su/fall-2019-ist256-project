{
 "cells": [
  {
   "cell_type": "markdown",
   "metadata": {},
   "source": [
    "## Twitter API"
   ]
  },
  {
   "cell_type": "code",
   "execution_count": 1,
   "metadata": {},
   "outputs": [],
   "source": [
    "def twitter_keys():\n",
    "    return \"*Fill your own Twitter API Keys*\"\n",
    "\n",
    "def twitter_secret():\n",
    "    return \"*Fill Your own Facebook API Secret*\"\n",
    "\n",
    "def twitter_access_token():\n",
    "    return '*Fill your own one*'\n",
    "\n",
    "def twitter_access_token_secret():\n",
    "    return '*Fill your own one*'\n"
   ]
  },
  {
   "cell_type": "markdown",
   "metadata": {},
   "source": [
    "## Facebook API"
   ]
  },
  {
   "cell_type": "code",
   "execution_count": 2,
   "metadata": {},
   "outputs": [],
   "source": [
    "def fb_key():\n",
    "    return \"*Fill your own Facebook API Keys*\"\n",
    "\n",
    "def fb_secret():\n",
    "    return \"*Fill Your own Facebook API Secret*\""
   ]
  },
  {
   "cell_type": "code",
   "execution_count": null,
   "metadata": {},
   "outputs": [],
   "source": []
  }
 ],
 "metadata": {
  "file_extension": ".py",
  "kernelspec": {
   "display_name": "Python 3",
   "language": "python",
   "name": "python3"
  },
  "language_info": {
   "codemirror_mode": {
    "name": "ipython",
    "version": 3
   },
   "file_extension": ".py",
   "mimetype": "text/x-python",
   "name": "python",
   "nbconvert_exporter": "python",
   "pygments_lexer": "ipython3",
   "version": "3.7.3"
  },
  "mimetype": "text/x-python",
  "name": "python",
  "npconvert_exporter": "python",
  "pygments_lexer": "ipython3",
  "version": 3
 },
 "nbformat": 4,
 "nbformat_minor": 2
}
