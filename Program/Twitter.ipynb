{
 "cells": [
  {
   "cell_type": "markdown",
   "metadata": {},
   "source": [
    "# Twitter\n",
    "This Notebook contains anythings about Twitter"
   ]
  },
  {
   "cell_type": "code",
   "execution_count": 1,
   "metadata": {},
   "outputs": [
    {
     "name": "stdout",
     "output_type": "stream",
     "text": [
      "Collecting tweepy\n",
      "  Downloading https://files.pythonhosted.org/packages/36/1b/2bd38043d22ade352fc3d3902cf30ce0e2f4bf285be3b304a2782a767aec/tweepy-3.8.0-py2.py3-none-any.whl\n",
      "Requirement already satisfied: requests>=2.11.1 in c:\\users\\sam_d\\anaconda3\\lib\\site-packages (from tweepy) (2.22.0)\n",
      "Requirement already satisfied: six>=1.10.0 in c:\\users\\sam_d\\appdata\\roaming\\python\\python37\\site-packages (from tweepy) (1.12.0)\n",
      "Collecting requests-oauthlib>=0.7.0 (from tweepy)\n",
      "  Downloading https://files.pythonhosted.org/packages/a3/12/b92740d845ab62ea4edf04d2f4164d82532b5a0b03836d4d4e71c6f3d379/requests_oauthlib-1.3.0-py2.py3-none-any.whl\n",
      "Requirement already satisfied: PySocks>=1.5.7 in c:\\users\\sam_d\\anaconda3\\lib\\site-packages (from tweepy) (1.7.0)\n",
      "Requirement already satisfied: chardet<3.1.0,>=3.0.2 in c:\\users\\sam_d\\anaconda3\\lib\\site-packages (from requests>=2.11.1->tweepy) (3.0.4)\n",
      "Requirement already satisfied: certifi>=2017.4.17 in c:\\users\\sam_d\\anaconda3\\lib\\site-packages (from requests>=2.11.1->tweepy) (2019.6.16)\n",
      "Requirement already satisfied: urllib3!=1.25.0,!=1.25.1,<1.26,>=1.21.1 in c:\\users\\sam_d\\anaconda3\\lib\\site-packages (from requests>=2.11.1->tweepy) (1.24.2)\n",
      "Requirement already satisfied: idna<2.9,>=2.5 in c:\\users\\sam_d\\anaconda3\\lib\\site-packages (from requests>=2.11.1->tweepy) (2.8)\n",
      "Collecting oauthlib>=3.0.0 (from requests-oauthlib>=0.7.0->tweepy)\n",
      "  Downloading https://files.pythonhosted.org/packages/05/57/ce2e7a8fa7c0afb54a0581b14a65b56e62b5759dbc98e80627142b8a3704/oauthlib-3.1.0-py2.py3-none-any.whl (147kB)\n",
      "Installing collected packages: oauthlib, requests-oauthlib, tweepy\n",
      "Successfully installed oauthlib-3.1.0 requests-oauthlib-1.3.0 tweepy-3.8.0\n"
     ]
    }
   ],
   "source": [
    "!pip install tweepy"
   ]
  },
  {
   "cell_type": "code",
   "execution_count": 1,
   "metadata": {},
   "outputs": [
    {
     "name": "stdout",
     "output_type": "stream",
     "text": [
      "importing Jupyter notebook from APIKeys.ipynb\n"
     ]
    }
   ],
   "source": [
    "import import_ipynb\n",
    "import APIKeys\n",
    "import tweepy"
   ]
  },
  {
   "cell_type": "code",
   "execution_count": 6,
   "metadata": {},
   "outputs": [],
   "source": [
    "TwitterKeys = APIKeys.twitter_keys()\n",
    "TwitterSecret = APIKeys.twitter_secret()\n",
    "TwitterAccessToken = APIKeys.twitter_access_token()\n",
    "TwitterAccessTokenSecret = APIKeys.twitter_access_token_secret()"
   ]
  },
  {
   "cell_type": "code",
   "execution_count": 7,
   "metadata": {},
   "outputs": [
    {
     "name": "stdout",
     "output_type": "stream",
     "text": [
      "RT @THRAwards: Academy \"Favoring\" Consolidation of Sound Editing and Sound Mixing Oscars (Exclusive) https://t.co/K0nS2Das2e https://t.co/t…\n",
      "Authorities continued looking Thursday for a 1-year-old after finding a dead woman in an Ansonia, Connecticut, home… https://t.co/uV7gK61oHM\n",
      "Japan’s $122 billion stimulus package is expected to push up gross domestic product by 1.4% through fiscal 2021… https://t.co/7sa5Sl3Cng\n",
      "Vanished communist cash still causing pain for Swiss bank Baer https://t.co/Dz2cks1HTW https://t.co/AV0wsPQ2dO\n",
      "Can Cleveland and St. Louis catch some of the magic of New York and San Francisco? @Noahpinion thinks it's possible… https://t.co/WiHTs7ciH4\n",
      "RT @economics: LATEST: The World Trade Organization agreed to a preliminary 2020 budget deal to avert a Jan. 1 shutdown https://t.co/svzSzQ…\n",
      "RT @caseydarnell_: #NotAgainSU planned to deliver a letter to Chancellor Kent Syverud demanding his resignation. The group is also calling…\n",
      "RT @caseydarnell_: New: SU says it relocated classes from Crouse-Hinds Hall out of concern for the “academic well-being” of students taking…\n",
      "U.S. trade deficit at 1-1/2-year low; labor market strong https://t.co/kEu4L15EZb https://t.co/SejN7IaEY7\n",
      "The U.S. Treasury Department says it will sanction a Russian group known as “Evil Corp” and its leaders for cyber-t… https://t.co/9VZR5eMejd\n",
      "【#韓國現25年最大高考洩密 考生在線“解密” 竟比官方早3天“曬”分】12月4日是韓國公佈高考成績的日子，然而提前3天，就有三百多名考生提前查詢到了成績單。韓媒稱，這是自1994年韓國實行高考制度以來首次高考成績洩露事件。… https://t.co/aA6DWJF2fc\n",
      "Bill Nye the Science Guy is being allowed to take limited claims against The Walt Disney Company to trial https://t.co/n8FLz3lbDg\n",
      "Americans’ confidence is rebounding—just in time for holiday shopping https://t.co/hS3A1Zvstg\n",
      "Save up to $200 on a Surface Pro 7 or Surface Laptop 3 at Amazon https://t.co/OD3w7KYCLF https://t.co/A2ti3XORQq\n",
      "NEW: @Paul_Goodloe spoke with @AndrewYang about financial security and climate change.\n",
      "\n",
      "Our next installment of 202… https://t.co/W0HWe3uuRR\n",
      "Saudi Aramco prices shares at top of range in world's biggest IPO: sources https://t.co/izHu8tJRG0 https://t.co/RMqxlPt9Jh\n",
      "RT @THRArchives: 35 years ago today: 'Beverly Hills Cop' hits theaters — \"A silver-bullet performance from star Eddie Murphy that's practic…\n",
      "Statement from #SyracuseU regarding the closure of Crouse Hinds Hall on Thursday, Dec. 5.\n",
      "\n",
      "Read more: https://t.co/PJksN9DotD\n",
      "As wildfire season raged in California this fall, a startup a few states away used artificial intelligence to pinpo… https://t.co/ZVHj37OkHq\n",
      "“My parents didn’t seem to want to acknowledge that I had a life-threatening illness. That I was bitter and cynical… https://t.co/aXuBjBC9EU\n"
     ]
    }
   ],
   "source": [
    "auth = tweepy.OAuthHandler(TwitterKeys, TwitterSecret)\n",
    "auth.set_access_token(TwitterAccessToken, TwitterAccessTokenSecret)\n",
    "\n",
    "api = tweepy.API(auth)\n",
    "\n",
    "public_tweets = api.home_timeline()\n",
    "for tweet in public_tweets:\n",
    "    print(tweet.text)"
   ]
  },
  {
   "cell_type": "code",
   "execution_count": null,
   "metadata": {},
   "outputs": [],
   "source": [
    "# Generate a bearer token\n",
    "def get_bearer_token():\n",
    "    bearer_request_url = 'https://api.twitter.com/oauth2/token'\n",
    "    request\n",
    "    "
   ]
  }
 ],
 "metadata": {
  "file_extension": ".py",
  "kernelspec": {
   "display_name": "Python 3",
   "language": "python",
   "name": "python3"
  },
  "language_info": {
   "codemirror_mode": {
    "name": "ipython",
    "version": 3
   },
   "file_extension": ".py",
   "mimetype": "text/x-python",
   "name": "python",
   "nbconvert_exporter": "python",
   "pygments_lexer": "ipython3",
   "version": "3.7.3"
  },
  "mimetype": "text/x-python",
  "name": "python",
  "npconvert_exporter": "python",
  "pygments_lexer": "ipython3",
  "version": 3
 },
 "nbformat": 4,
 "nbformat_minor": 2
}
