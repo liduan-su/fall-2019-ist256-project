{
 "cells": [
  {
   "cell_type": "markdown",
   "metadata": {},
   "source": [
    "# Twitter\n",
    "This Notebook contains anythings about Twitter"
   ]
  },
  {
   "cell_type": "code",
   "execution_count": 2,
   "metadata": {},
   "outputs": [],
   "source": [
    "#import anything needed\n",
    "import import_ipynb\n",
    "import APIKeys\n",
    "import tweepy\n",
    "import json \n",
    "\n",
    "#get creditdential\n",
    "TwitterKeys = APIKeys.twitter_keys()\n",
    "TwitterSecret = APIKeys.twitter_secret()\n",
    "TwitterAccessToken = APIKeys.twitter_access_token()\n",
    "TwitterAccessTokenSecret = APIKeys.twitter_access_token_secret()\n",
    "\n",
    "#initialize twitter tweepy\n",
    "auth = tweepy.OAuthHandler(TwitterKeys, TwitterSecret)\n",
    "auth.set_access_token(TwitterAccessToken, TwitterAccessTokenSecret)\n",
    "\n",
    "api = tweepy.API(auth)\n",
    "\n",
    "#get timeline from my account...\n",
    "def timeline():\n",
    "    \"\"\"\n",
    "    This function is for get user's timeline, it will return in JSON format.\n",
    "\n",
    "    usage:\n",
    "    timeline()\n",
    "    \"\"\"\n",
    "    return api.home_timeline()\n",
    "\n",
    "def usr_timeline(username, tweet_count = 20):\n",
    "    \"\"\"\n",
    "    This function is for return timeline from a specific user.\n",
    "    it will return in JSON format.\n",
    "    \n",
    "    for example:\n",
    "    usr_timeline(iSchoolSU, 20) will return 20 recent tweets from account @iSchoolSU\n",
    "\n",
    "    usage:\n",
    "    usr_timeline(username, tweet_count = 20)\n",
    "    \"\"\"    \n",
    "    return api.user_timeline(id=username, count = tweet_count)\n",
    "\n",
    "def search(query, lang='en', count = 100 ):\n",
    "    \"\"\"\n",
    "    This function is for search tweet of a query word, in default we will give you 20 tweets for the result, the max will be 100:\n",
    "    it will return in JSON format.\n",
    "    \n",
    "    example:\n",
    "    search(iSchoolSU) will return search result of iSchoolSU\n",
    "\n",
    "    usage:\n",
    "    search(query,lang='en')\n",
    "    \"\"\"    \n",
    "    return api.search(q=query, count = 100)\n",
    "\n",
    "def trend():\n",
    "    return api.trends_available()\n",
    "\n",
    "def trend_place(id):\n",
    "    return api.trends_place(id)\n",
    "\n",
    "def trend_geo(lat, long):\n",
    "    return api.trends_closest(lat, long)"
   ]
  },
  {
   "cell_type": "code",
   "execution_count": null,
   "metadata": {},
   "outputs": [],
   "source": []
  }
 ],
 "metadata": {
  "file_extension": ".py",
  "kernelspec": {
   "display_name": "Python 3",
   "language": "python",
   "name": "python3"
  },
  "language_info": {
   "codemirror_mode": {
    "name": "ipython",
    "version": 3
   },
   "file_extension": ".py",
   "mimetype": "text/x-python",
   "name": "python",
   "nbconvert_exporter": "python",
   "pygments_lexer": "ipython3",
   "version": "3.7.3"
  },
  "mimetype": "text/x-python",
  "name": "python",
  "npconvert_exporter": "python",
  "pygments_lexer": "ipython3",
  "version": 3
 },
 "nbformat": 4,
 "nbformat_minor": 2
}
