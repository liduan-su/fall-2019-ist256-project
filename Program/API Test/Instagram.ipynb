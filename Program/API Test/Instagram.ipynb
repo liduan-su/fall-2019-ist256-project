{
 "cells": [
  {
   "cell_type": "markdown",
   "metadata": {},
   "source": [
    "# Instagram\n",
    "This doucment is all about instagram"
   ]
  },
  {
   "cell_type": "code",
   "execution_count": 1,
   "metadata": {},
   "outputs": [
    {
     "name": "stdout",
     "output_type": "stream",
     "text": [
      "Collecting python-instagram\n",
      "  Downloading https://files.pythonhosted.org/packages/35/a9/c33c2224e4bbc8579940199c98cc980ee5424623f72e142612ba03c567ea/python-instagram-1.3.2.tar.gz\n",
      "Collecting simplejson (from python-instagram)\n",
      "  Downloading https://files.pythonhosted.org/packages/36/59/e8433d95e0683a045060a020624dec653499df73726359d68d567869cbac/simplejson-3.17.0-cp37-cp37m-win_amd64.whl (73kB)\n",
      "Collecting httplib2 (from python-instagram)\n",
      "  Downloading https://files.pythonhosted.org/packages/d2/84/f97b9efdb17c9b73e133bdbf2b4bfd09cd0be655e36e3ee3c4bec9095048/httplib2-0.14.0-py3-none-any.whl (94kB)\n",
      "Requirement already satisfied: six in c:\\users\\sam_d\\appdata\\roaming\\python\\python37\\site-packages (from python-instagram) (1.12.0)\n",
      "Building wheels for collected packages: python-instagram\n",
      "  Building wheel for python-instagram (setup.py): started\n",
      "  Building wheel for python-instagram (setup.py): finished with status 'done'\n",
      "  Stored in directory: C:\\Users\\Sam_D\\AppData\\Local\\pip\\Cache\\wheels\\26\\ba\\4d\\9cb3a7a08248f372ad9f1edba6749bbe6caa28404bea4471fe\n",
      "Successfully built python-instagram\n",
      "Installing collected packages: simplejson, httplib2, python-instagram\n",
      "Successfully installed httplib2-0.14.0 python-instagram-1.3.2 simplejson-3.17.0\n"
     ]
    }
   ],
   "source": [
    "!pip install python-instagram"
   ]
  },
  {
   "cell_type": "code",
   "execution_count": 2,
   "metadata": {},
   "outputs": [
    {
     "name": "stdout",
     "output_type": "stream",
     "text": [
      "importing Jupyter notebook from APIKeys.ipynb\n"
     ]
    }
   ],
   "source": [
    "import import_ipynb\n",
    "import APIKeys\n",
    "import instagram"
   ]
  },
  {
   "cell_type": "code",
   "execution_count": null,
   "metadata": {},
   "outputs": [],
   "source": [
    "https://api.instagram.com/oauth/authorize/?client_id=CLIENT-ID&redirect_uri=REDIRECT-URI&response_type=token"
   ]
  }
 ],
 "metadata": {
  "kernelspec": {
   "display_name": "Python 3",
   "language": "python",
   "name": "python3"
  },
  "language_info": {
   "codemirror_mode": {
    "name": "ipython",
    "version": 3
   },
   "file_extension": ".py",
   "mimetype": "text/x-python",
   "name": "python",
   "nbconvert_exporter": "python",
   "pygments_lexer": "ipython3",
   "version": "3.7.3"
  }
 },
 "nbformat": 4,
 "nbformat_minor": 2
}
