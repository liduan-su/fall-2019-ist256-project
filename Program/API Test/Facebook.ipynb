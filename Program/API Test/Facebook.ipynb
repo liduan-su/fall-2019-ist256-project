{
 "cells": [
  {
   "cell_type": "markdown",
   "metadata": {},
   "source": [
    "# Facebook\n",
    "This document is all about facebook and instagram."
   ]
  },
  {
   "cell_type": "code",
   "execution_count": 1,
   "metadata": {},
   "outputs": [
    {
     "name": "stdout",
     "output_type": "stream",
     "text": [
      "Collecting facebook-sdk\n",
      "  Downloading https://files.pythonhosted.org/packages/79/d7/4cb0f5930f79205cc45db22e17fa716396d813c3d6b8d5de77783a5fa59a/facebook_sdk-3.1.0-py2.py3-none-any.whl\n",
      "Requirement already satisfied: requests in c:\\users\\sam_d\\anaconda3\\lib\\site-packages (from facebook-sdk) (2.22.0)\n",
      "Requirement already satisfied: idna<2.9,>=2.5 in c:\\users\\sam_d\\anaconda3\\lib\\site-packages (from requests->facebook-sdk) (2.8)\n",
      "Requirement already satisfied: certifi>=2017.4.17 in c:\\users\\sam_d\\anaconda3\\lib\\site-packages (from requests->facebook-sdk) (2019.6.16)\n",
      "Requirement already satisfied: chardet<3.1.0,>=3.0.2 in c:\\users\\sam_d\\anaconda3\\lib\\site-packages (from requests->facebook-sdk) (3.0.4)\n",
      "Requirement already satisfied: urllib3!=1.25.0,!=1.25.1,<1.26,>=1.21.1 in c:\\users\\sam_d\\anaconda3\\lib\\site-packages (from requests->facebook-sdk) (1.24.2)\n",
      "Installing collected packages: facebook-sdk\n",
      "Successfully installed facebook-sdk-3.1.0\n"
     ]
    }
   ],
   "source": [
    "#!pip install import_ipynb\n",
    "!pip install facebook-sdk"
   ]
  },
  {
   "cell_type": "code",
   "execution_count": 6,
   "metadata": {},
   "outputs": [],
   "source": [
    "import import_ipynb\n",
    "import APIKeys\n",
    "import facebook"
   ]
  },
  {
   "cell_type": "code",
   "execution_count": 7,
   "metadata": {},
   "outputs": [
    {
     "ename": "AttributeError",
     "evalue": "module 'APIKeys' has no attribute 'fb_access_token'",
     "output_type": "error",
     "traceback": [
      "\u001b[0;31m---------------------------------------------------------------------------\u001b[0m",
      "\u001b[0;31mAttributeError\u001b[0m                            Traceback (most recent call last)",
      "\u001b[0;32m<ipython-input-7-b1c50006b773>\u001b[0m in \u001b[0;36m<module>\u001b[0;34m\u001b[0m\n\u001b[1;32m      1\u001b[0m \u001b[0mFacebookKeys\u001b[0m \u001b[0;34m=\u001b[0m \u001b[0mAPIKeys\u001b[0m\u001b[0;34m.\u001b[0m\u001b[0mfb_key\u001b[0m\u001b[0;34m(\u001b[0m\u001b[0;34m)\u001b[0m\u001b[0;34m\u001b[0m\u001b[0;34m\u001b[0m\u001b[0m\n\u001b[1;32m      2\u001b[0m \u001b[0mFacebookSecret\u001b[0m \u001b[0;34m=\u001b[0m \u001b[0mAPIKeys\u001b[0m\u001b[0;34m.\u001b[0m\u001b[0mtwitter_secret\u001b[0m\u001b[0;34m(\u001b[0m\u001b[0;34m)\u001b[0m\u001b[0;34m\u001b[0m\u001b[0;34m\u001b[0m\u001b[0m\n\u001b[0;32m----> 3\u001b[0;31m \u001b[0mFacebookAccessToken\u001b[0m \u001b[0;34m=\u001b[0m \u001b[0mAPIKeys\u001b[0m\u001b[0;34m.\u001b[0m\u001b[0mfb_access_token\u001b[0m\u001b[0;34m(\u001b[0m\u001b[0;34m)\u001b[0m\u001b[0;34m\u001b[0m\u001b[0;34m\u001b[0m\u001b[0m\n\u001b[0m\u001b[1;32m      4\u001b[0m \u001b[0mFacebookAccessTokenSecret\u001b[0m \u001b[0;34m=\u001b[0m \u001b[0mAPIKeys\u001b[0m\u001b[0;34m.\u001b[0m\u001b[0mfb_access_token_secret\u001b[0m\u001b[0;34m(\u001b[0m\u001b[0;34m)\u001b[0m\u001b[0;34m\u001b[0m\u001b[0;34m\u001b[0m\u001b[0m\n",
      "\u001b[0;31mAttributeError\u001b[0m: module 'APIKeys' has no attribute 'fb_access_token'"
     ]
    }
   ],
   "source": [
    "FacebookKeys = APIKeys.fb_key()\n",
    "FacebookSecret = APIKeys.twitter_secret()"
   ]
  },
  {
   "cell_type": "code",
   "execution_count": null,
   "metadata": {},
   "outputs": [],
   "source": [
    "#Function\n",
    "fb_get_thread_url = "
   ]
  }
 ],
 "metadata": {
  "kernelspec": {
   "display_name": "Python 3",
   "language": "python",
   "name": "python3"
  },
  "language_info": {
   "codemirror_mode": {
    "name": "ipython",
    "version": 3
   },
   "file_extension": ".py",
   "mimetype": "text/x-python",
   "name": "python",
   "nbconvert_exporter": "python",
   "pygments_lexer": "ipython3",
   "version": "3.7.3"
  }
 },
 "nbformat": 4,
 "nbformat_minor": 2
}
