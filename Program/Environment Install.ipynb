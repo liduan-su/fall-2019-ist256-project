{
 "cells": [
  {
   "cell_type": "markdown",
   "metadata": {},
   "source": [
    "# Prepare Environment \n",
    "Here are all package we need for this project, try to import package below to see you fulfilled our requirement"
   ]
  },
  {
   "cell_type": "code",
   "execution_count": 5,
   "metadata": {},
   "outputs": [],
   "source": [
    "import import_ipynb\n",
    "import tweepy\n",
    "import sys \n",
    "import pandas as pd\n",
    "import IPython\n",
    "import requests\n",
    "import ipywidgets as widgets\n",
    "import ipython_blocking\n",
    "import matplotlib\n",
    "import numpy as np\n",
    "import matplotlib.pyplot as plt\n",
    "import webbrowser"
   ]
  },
  {
   "cell_type": "markdown",
   "metadata": {},
   "source": [
    "## Install iPywidget in terminal\n",
    "this is for button and dropdown work\n",
    "run command below in Jupyter's Terminal\n",
    "```\n",
    "conda install -c conda-forge ipywidgets\n",
    "```"
   ]
  },
  {
   "cell_type": "markdown",
   "metadata": {},
   "source": [
    "## pip package"
   ]
  },
  {
   "cell_type": "code",
   "execution_count": 4,
   "metadata": {},
   "outputs": [
    {
     "name": "stdout",
     "output_type": "stream",
     "text": [
      "Requirement already satisfied: import_ipynb in c:\\users\\sam_d\\anaconda3\\lib\\site-packages (0.1.3)\n",
      "Requirement already satisfied: pandas in c:\\users\\sam_d\\anaconda3\\lib\\site-packages (0.24.2)\n",
      "Requirement already satisfied: numpy>=1.12.0 in c:\\users\\sam_d\\anaconda3\\lib\\site-packages (from pandas) (1.16.4)\n",
      "Requirement already satisfied: python-dateutil>=2.5.0 in c:\\users\\sam_d\\anaconda3\\lib\\site-packages (from pandas) (2.8.0)\n",
      "Requirement already satisfied: pytz>=2011k in c:\\users\\sam_d\\anaconda3\\lib\\site-packages (from pandas) (2019.1)\n",
      "Requirement already satisfied: six>=1.5 in c:\\users\\sam_d\\anaconda3\\lib\\site-packages (from python-dateutil>=2.5.0->pandas) (1.12.0)\n",
      "Requirement already satisfied: IPython in c:\\users\\sam_d\\anaconda3\\lib\\site-packages (7.6.1)\n",
      "Requirement already satisfied: prompt-toolkit<2.1.0,>=2.0.0 in c:\\users\\sam_d\\anaconda3\\lib\\site-packages (from IPython) (2.0.9)\n",
      "Requirement already satisfied: pickleshare in c:\\users\\sam_d\\anaconda3\\lib\\site-packages (from IPython) (0.7.5)\n",
      "Requirement already satisfied: colorama; sys_platform == \"win32\" in c:\\users\\sam_d\\anaconda3\\lib\\site-packages (from IPython) (0.4.1)\n",
      "Requirement already satisfied: decorator in c:\\users\\sam_d\\anaconda3\\lib\\site-packages (from IPython) (4.4.0)\n",
      "Requirement already satisfied: pygments in c:\\users\\sam_d\\anaconda3\\lib\\site-packages (from IPython) (2.4.2)\n",
      "Requirement already satisfied: backcall in c:\\users\\sam_d\\anaconda3\\lib\\site-packages (from IPython) (0.1.0)\n",
      "Requirement already satisfied: setuptools>=18.5 in c:\\users\\sam_d\\anaconda3\\lib\\site-packages (from IPython) (41.0.1)\n",
      "Requirement already satisfied: traitlets>=4.2 in c:\\users\\sam_d\\anaconda3\\lib\\site-packages (from IPython) (4.3.2)\n",
      "Requirement already satisfied: jedi>=0.10 in c:\\users\\sam_d\\anaconda3\\lib\\site-packages (from IPython) (0.13.3)\n",
      "Requirement already satisfied: wcwidth in c:\\users\\sam_d\\anaconda3\\lib\\site-packages (from prompt-toolkit<2.1.0,>=2.0.0->IPython) (0.1.7)\n",
      "Requirement already satisfied: six>=1.9.0 in c:\\users\\sam_d\\anaconda3\\lib\\site-packages (from prompt-toolkit<2.1.0,>=2.0.0->IPython) (1.12.0)\n",
      "Requirement already satisfied: ipython-genutils in c:\\users\\sam_d\\anaconda3\\lib\\site-packages (from traitlets>=4.2->IPython) (0.2.0)\n",
      "Requirement already satisfied: parso>=0.3.0 in c:\\users\\sam_d\\anaconda3\\lib\\site-packages (from jedi>=0.10->IPython) (0.5.0)\n",
      "Requirement already satisfied: ipython_blocking in c:\\users\\sam_d\\anaconda3\\lib\\site-packages (0.2.0)\n",
      "Requirement already satisfied: IPython in c:\\users\\sam_d\\anaconda3\\lib\\site-packages (from ipython_blocking) (7.6.1)\n",
      "Requirement already satisfied: ipywidgets in c:\\users\\sam_d\\anaconda3\\lib\\site-packages (from ipython_blocking) (7.5.0)\n",
      "Requirement already satisfied: pygments in c:\\users\\sam_d\\anaconda3\\lib\\site-packages (from IPython->ipython_blocking) (2.4.2)\n",
      "Requirement already satisfied: pickleshare in c:\\users\\sam_d\\anaconda3\\lib\\site-packages (from IPython->ipython_blocking) (0.7.5)\n",
      "Requirement already satisfied: prompt-toolkit<2.1.0,>=2.0.0 in c:\\users\\sam_d\\anaconda3\\lib\\site-packages (from IPython->ipython_blocking) (2.0.9)\n",
      "Requirement already satisfied: jedi>=0.10 in c:\\users\\sam_d\\anaconda3\\lib\\site-packages (from IPython->ipython_blocking) (0.13.3)\n",
      "Requirement already satisfied: colorama; sys_platform == \"win32\" in c:\\users\\sam_d\\anaconda3\\lib\\site-packages (from IPython->ipython_blocking) (0.4.1)\n",
      "Requirement already satisfied: decorator in c:\\users\\sam_d\\anaconda3\\lib\\site-packages (from IPython->ipython_blocking) (4.4.0)\n",
      "Requirement already satisfied: traitlets>=4.2 in c:\\users\\sam_d\\anaconda3\\lib\\site-packages (from IPython->ipython_blocking) (4.3.2)\n",
      "Requirement already satisfied: setuptools>=18.5 in c:\\users\\sam_d\\anaconda3\\lib\\site-packages (from IPython->ipython_blocking) (41.0.1)\n",
      "Requirement already satisfied: backcall in c:\\users\\sam_d\\anaconda3\\lib\\site-packages (from IPython->ipython_blocking) (0.1.0)\n",
      "Requirement already satisfied: widgetsnbextension~=3.5.0 in c:\\users\\sam_d\\anaconda3\\lib\\site-packages (from ipywidgets->ipython_blocking) (3.5.0)\n",
      "Requirement already satisfied: ipykernel>=4.5.1 in c:\\users\\sam_d\\anaconda3\\lib\\site-packages (from ipywidgets->ipython_blocking) (5.1.1)\n",
      "Requirement already satisfied: nbformat>=4.2.0 in c:\\users\\sam_d\\anaconda3\\lib\\site-packages (from ipywidgets->ipython_blocking) (4.4.0)\n",
      "Requirement already satisfied: wcwidth in c:\\users\\sam_d\\anaconda3\\lib\\site-packages (from prompt-toolkit<2.1.0,>=2.0.0->IPython->ipython_blocking) (0.1.7)\n",
      "Requirement already satisfied: six>=1.9.0 in c:\\users\\sam_d\\anaconda3\\lib\\site-packages (from prompt-toolkit<2.1.0,>=2.0.0->IPython->ipython_blocking) (1.12.0)\n",
      "Requirement already satisfied: parso>=0.3.0 in c:\\users\\sam_d\\anaconda3\\lib\\site-packages (from jedi>=0.10->IPython->ipython_blocking) (0.5.0)\n",
      "Requirement already satisfied: ipython-genutils in c:\\users\\sam_d\\anaconda3\\lib\\site-packages (from traitlets>=4.2->IPython->ipython_blocking) (0.2.0)\n",
      "Requirement already satisfied: notebook>=4.4.1 in c:\\users\\sam_d\\anaconda3\\lib\\site-packages (from widgetsnbextension~=3.5.0->ipywidgets->ipython_blocking) (6.0.0)\n",
      "Requirement already satisfied: jupyter-client in c:\\users\\sam_d\\anaconda3\\lib\\site-packages (from ipykernel>=4.5.1->ipywidgets->ipython_blocking) (5.3.1)\n",
      "Requirement already satisfied: tornado>=4.2 in c:\\users\\sam_d\\anaconda3\\lib\\site-packages (from ipykernel>=4.5.1->ipywidgets->ipython_blocking) (6.0.3)\n",
      "Requirement already satisfied: jupyter-core in c:\\users\\sam_d\\anaconda3\\lib\\site-packages (from nbformat>=4.2.0->ipywidgets->ipython_blocking) (4.5.0)\n",
      "Requirement already satisfied: jsonschema!=2.5.0,>=2.4 in c:\\users\\sam_d\\anaconda3\\lib\\site-packages (from nbformat>=4.2.0->ipywidgets->ipython_blocking) (3.0.1)\n",
      "Requirement already satisfied: terminado>=0.8.1 in c:\\users\\sam_d\\anaconda3\\lib\\site-packages (from notebook>=4.4.1->widgetsnbextension~=3.5.0->ipywidgets->ipython_blocking) (0.8.2)\n",
      "Requirement already satisfied: jinja2 in c:\\users\\sam_d\\anaconda3\\lib\\site-packages (from notebook>=4.4.1->widgetsnbextension~=3.5.0->ipywidgets->ipython_blocking) (2.10.1)\n",
      "Requirement already satisfied: nbconvert in c:\\users\\sam_d\\anaconda3\\lib\\site-packages (from notebook>=4.4.1->widgetsnbextension~=3.5.0->ipywidgets->ipython_blocking) (5.5.0)\n",
      "Requirement already satisfied: pyzmq>=17 in c:\\users\\sam_d\\anaconda3\\lib\\site-packages (from notebook>=4.4.1->widgetsnbextension~=3.5.0->ipywidgets->ipython_blocking) (18.0.0)\n",
      "Requirement already satisfied: Send2Trash in c:\\users\\sam_d\\anaconda3\\lib\\site-packages (from notebook>=4.4.1->widgetsnbextension~=3.5.0->ipywidgets->ipython_blocking) (1.5.0)\n",
      "Requirement already satisfied: prometheus-client in c:\\users\\sam_d\\anaconda3\\lib\\site-packages (from notebook>=4.4.1->widgetsnbextension~=3.5.0->ipywidgets->ipython_blocking) (0.7.1)\n",
      "Requirement already satisfied: python-dateutil>=2.1 in c:\\users\\sam_d\\anaconda3\\lib\\site-packages (from jupyter-client->ipykernel>=4.5.1->ipywidgets->ipython_blocking) (2.8.0)\n",
      "Requirement already satisfied: attrs>=17.4.0 in c:\\users\\sam_d\\anaconda3\\lib\\site-packages (from jsonschema!=2.5.0,>=2.4->nbformat>=4.2.0->ipywidgets->ipython_blocking) (19.1.0)\n",
      "Requirement already satisfied: pyrsistent>=0.14.0 in c:\\users\\sam_d\\anaconda3\\lib\\site-packages (from jsonschema!=2.5.0,>=2.4->nbformat>=4.2.0->ipywidgets->ipython_blocking) (0.14.11)\n",
      "Requirement already satisfied: MarkupSafe>=0.23 in c:\\users\\sam_d\\anaconda3\\lib\\site-packages (from jinja2->notebook>=4.4.1->widgetsnbextension~=3.5.0->ipywidgets->ipython_blocking) (1.1.1)\n",
      "Requirement already satisfied: pandocfilters>=1.4.1 in c:\\users\\sam_d\\anaconda3\\lib\\site-packages (from nbconvert->notebook>=4.4.1->widgetsnbextension~=3.5.0->ipywidgets->ipython_blocking) (1.4.2)\n",
      "Requirement already satisfied: testpath in c:\\users\\sam_d\\anaconda3\\lib\\site-packages (from nbconvert->notebook>=4.4.1->widgetsnbextension~=3.5.0->ipywidgets->ipython_blocking) (0.4.2)\n",
      "Requirement already satisfied: entrypoints>=0.2.2 in c:\\users\\sam_d\\anaconda3\\lib\\site-packages (from nbconvert->notebook>=4.4.1->widgetsnbextension~=3.5.0->ipywidgets->ipython_blocking) (0.3)\n",
      "Requirement already satisfied: mistune>=0.8.1 in c:\\users\\sam_d\\anaconda3\\lib\\site-packages (from nbconvert->notebook>=4.4.1->widgetsnbextension~=3.5.0->ipywidgets->ipython_blocking) (0.8.4)\n",
      "Requirement already satisfied: defusedxml in c:\\users\\sam_d\\anaconda3\\lib\\site-packages (from nbconvert->notebook>=4.4.1->widgetsnbextension~=3.5.0->ipywidgets->ipython_blocking) (0.6.0)\n",
      "Requirement already satisfied: bleach in c:\\users\\sam_d\\anaconda3\\lib\\site-packages (from nbconvert->notebook>=4.4.1->widgetsnbextension~=3.5.0->ipywidgets->ipython_blocking) (3.1.0)\n",
      "Requirement already satisfied: webencodings in c:\\users\\sam_d\\anaconda3\\lib\\site-packages (from bleach->nbconvert->notebook>=4.4.1->widgetsnbextension~=3.5.0->ipywidgets->ipython_blocking) (0.5.1)\n"
     ]
    },
    {
     "name": "stdout",
     "output_type": "stream",
     "text": [
      "Collecting webbrowser\n"
     ]
    },
    {
     "name": "stderr",
     "output_type": "stream",
     "text": [
      "  ERROR: Could not find a version that satisfies the requirement webbrowser (from versions: none)\n",
      "ERROR: No matching distribution found for webbrowser\n"
     ]
    },
    {
     "name": "stdout",
     "output_type": "stream",
     "text": [
      "Collecting tweepy\n",
      "  Downloading https://files.pythonhosted.org/packages/36/1b/2bd38043d22ade352fc3d3902cf30ce0e2f4bf285be3b304a2782a767aec/tweepy-3.8.0-py2.py3-none-any.whl\n",
      "Requirement already satisfied: PySocks>=1.5.7 in c:\\users\\sam_d\\anaconda3\\lib\\site-packages (from tweepy) (1.7.0)\n",
      "Requirement already satisfied: requests>=2.11.1 in c:\\users\\sam_d\\anaconda3\\lib\\site-packages (from tweepy) (2.22.0)\n",
      "Collecting requests-oauthlib>=0.7.0 (from tweepy)\n",
      "  Downloading https://files.pythonhosted.org/packages/a3/12/b92740d845ab62ea4edf04d2f4164d82532b5a0b03836d4d4e71c6f3d379/requests_oauthlib-1.3.0-py2.py3-none-any.whl\n",
      "Requirement already satisfied: six>=1.10.0 in c:\\users\\sam_d\\anaconda3\\lib\\site-packages (from tweepy) (1.12.0)\n",
      "Requirement already satisfied: idna<2.9,>=2.5 in c:\\users\\sam_d\\anaconda3\\lib\\site-packages (from requests>=2.11.1->tweepy) (2.8)\n",
      "Requirement already satisfied: urllib3!=1.25.0,!=1.25.1,<1.26,>=1.21.1 in c:\\users\\sam_d\\anaconda3\\lib\\site-packages (from requests>=2.11.1->tweepy) (1.24.2)\n",
      "Requirement already satisfied: certifi>=2017.4.17 in c:\\users\\sam_d\\anaconda3\\lib\\site-packages (from requests>=2.11.1->tweepy) (2019.6.16)\n",
      "Requirement already satisfied: chardet<3.1.0,>=3.0.2 in c:\\users\\sam_d\\anaconda3\\lib\\site-packages (from requests>=2.11.1->tweepy) (3.0.4)\n",
      "Collecting oauthlib>=3.0.0 (from requests-oauthlib>=0.7.0->tweepy)\n",
      "  Downloading https://files.pythonhosted.org/packages/05/57/ce2e7a8fa7c0afb54a0581b14a65b56e62b5759dbc98e80627142b8a3704/oauthlib-3.1.0-py2.py3-none-any.whl (147kB)\n",
      "Installing collected packages: oauthlib, requests-oauthlib, tweepy\n",
      "Successfully installed oauthlib-3.1.0 requests-oauthlib-1.3.0 tweepy-3.8.0\n"
     ]
    }
   ],
   "source": [
    "!pip install import_ipynb\n",
    "!pip install pandas\n",
    "!pip install IPython\n",
    "!pip install ipython_blocking\n",
    "!pip install webbrowser\n",
    "!pip install tweepy"
   ]
  },
  {
   "cell_type": "code",
   "execution_count": null,
   "metadata": {},
   "outputs": [],
   "source": []
  }
 ],
 "metadata": {
  "kernelspec": {
   "display_name": "Python 3",
   "language": "python",
   "name": "python3"
  },
  "language_info": {
   "codemirror_mode": {
    "name": "ipython",
    "version": 3
   },
   "file_extension": ".py",
   "mimetype": "text/x-python",
   "name": "python",
   "nbconvert_exporter": "python",
   "pygments_lexer": "ipython3",
   "version": "3.7.3"
  }
 },
 "nbformat": 4,
 "nbformat_minor": 2
}
